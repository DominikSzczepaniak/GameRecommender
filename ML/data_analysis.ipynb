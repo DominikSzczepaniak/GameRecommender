{
 "cells": [
  {
   "cell_type": "code",
   "execution_count": 3,
   "metadata": {},
   "outputs": [],
   "source": [
    "import numpy as np \n",
    "import pandas as pd \n",
    "from sklearn.model_selection import train_test_split"
   ]
  },
  {
   "cell_type": "code",
   "execution_count": 12,
   "metadata": {},
   "outputs": [],
   "source": [
    "rating_matrix_sparse = load_npz('./cleora/rating_matrix_sparse.npz')\n",
    "row_indices = rating_matrix_sparse.row\n",
    "col_indices = rating_matrix_sparse.col\n",
    "data = rating_matrix_sparse.data\n",
    "\n",
    "entries = np.vstack((row_indices, col_indices, data)).T\n"
   ]
  },
  {
   "cell_type": "code",
   "execution_count": 13,
   "metadata": {},
   "outputs": [],
   "source": [
    "import numpy as np\n",
    "from scipy.sparse import coo_matrix, save_npz, load_npz\n",
    "from sklearn.model_selection import train_test_split\n",
    "\n",
    "train_entries, test_entries = train_test_split(entries, test_size=0.2, random_state=42)\n",
    "\n",
    "num_users, num_games = rating_matrix_sparse.shape\n",
    "train_matrix = coo_matrix((train_entries[:, 2], (train_entries[:, 0], train_entries[:, 1])),\n",
    "                          shape=(num_users, num_games))\n",
    "test_matrix = coo_matrix((test_entries[:, 2], (test_entries[:, 0], test_entries[:, 1])),\n",
    "                         shape=(num_users, num_games))\n",
    "\n",
    "from scipy.sparse import save_npz\n",
    "save_npz('train_matrix.npz', train_matrix)\n",
    "save_npz('test_matrix.npz', test_matrix)"
   ]
  },
  {
   "cell_type": "code",
   "execution_count": null,
   "metadata": {},
   "outputs": [],
   "source": []
  }
 ],
 "metadata": {
  "kernelspec": {
   "display_name": ".env",
   "language": "python",
   "name": "python3"
  },
  "language_info": {
   "codemirror_mode": {
    "name": "ipython",
    "version": 3
   },
   "file_extension": ".py",
   "mimetype": "text/x-python",
   "name": "python",
   "nbconvert_exporter": "python",
   "pygments_lexer": "ipython3",
   "version": "3.12.8"
  }
 },
 "nbformat": 4,
 "nbformat_minor": 2
}
