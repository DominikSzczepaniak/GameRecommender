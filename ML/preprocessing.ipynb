{
 "cells": [
  {
   "cell_type": "code",
   "execution_count": 1,
   "metadata": {},
   "outputs": [],
   "source": [
    "import pandas as pd\n",
    "import numpy as np\n",
    "from scipy.sparse import load_npz, save_npz, coo_matrix"
   ]
  },
  {
   "cell_type": "code",
   "execution_count": 2,
   "metadata": {},
   "outputs": [],
   "source": [
    "users = pd.read_csv('./data/users.csv')\n",
    "games = pd.read_csv('./data/games.csv')\n",
    "\n",
    "unique_user_ids = users['user_id'].unique()\n",
    "unique_game_ids = games['app_id'].unique()\n",
    "\n",
    "user_index = {user_id: idx for idx, user_id in enumerate(unique_user_ids)}\n",
    "app_index = {game_id: idx for idx, game_id in enumerate(unique_game_ids)}\n",
    "reverse_user_index = {idx: user_id for user_id, idx in user_index.items()}\n",
    "reverse_app_index = {idx: game_id for game_id, idx in app_index.items()}"
   ]
  },
  {
   "cell_type": "code",
   "execution_count": 3,
   "metadata": {},
   "outputs": [],
   "source": [
    "rating_matrix_sparse = load_npz('./data/score_matrix.npz')\n",
    "row_indices = rating_matrix_sparse.row\n",
    "col_indices = rating_matrix_sparse.col\n",
    "data = rating_matrix_sparse.data\n",
    "\n",
    "entries = np.vstack((row_indices, col_indices, data)).T\n",
    "\n",
    "positive_interactions = data > 0\n",
    "user_row_counts_positive = np.bincount(row_indices, weights=data * positive_interactions, minlength=rating_matrix_sparse.shape[0])"
   ]
  },
  {
   "cell_type": "code",
   "execution_count": 4,
   "metadata": {},
   "outputs": [],
   "source": [
    "users_15 = np.where(user_row_counts_positive >= 15)[0]\n",
    "filtered_entries_15 = entries[np.isin(entries[:, 0], users_15)]\n",
    "unique_users_15 = np.unique(filtered_entries_15[:, 0])\n",
    "selected_users_15 = np.random.choice(unique_users_15, size=10000, replace=False)\n",
    "test_entries_15 = filtered_entries_15[np.isin(filtered_entries_15[:, 0], selected_users_15)]"
   ]
  },
  {
   "cell_type": "code",
   "execution_count": 5,
   "metadata": {},
   "outputs": [],
   "source": [
    "test_entries = np.vstack((test_entries_15))\n",
    "\n",
    "test_indices_set = set(map(tuple, test_entries))\n",
    "train_mask = np.array([tuple(entry) not in test_indices_set for entry in entries])\n",
    "train_entries = entries[train_mask]\n",
    "\n",
    "num_users, num_games = rating_matrix_sparse.shape\n",
    "train_matrix = coo_matrix((train_entries[:, 2], (train_entries[:, 0], train_entries[:, 1])),\n",
    "                          shape=(num_users, num_games))\n",
    "test_matrix = coo_matrix((test_entries[:, 2], (test_entries[:, 0], test_entries[:, 1])),\n",
    "                         shape=(num_users, num_games))\n",
    "\n",
    "save_npz('./data/train_matrix.npz', train_matrix)\n",
    "save_npz('./data/test_matrix.npz', test_matrix)"
   ]
  },
  {
   "cell_type": "code",
   "execution_count": 6,
   "metadata": {},
   "outputs": [],
   "source": [
    "train_matrix = load_npz('./data/train_matrix.npz')\n",
    "test_matrix = load_npz('./data/test_matrix.npz')\n",
    "\n",
    "if not isinstance(test_matrix, coo_matrix):\n",
    "    test_matrix = coo_matrix(test_matrix)\n",
    "\n",
    "test_row = test_matrix.row\n",
    "test_col = test_matrix.col\n",
    "test_data = test_matrix.data\n",
    "\n",
    "test_entries_by_user = {}\n",
    "for row, col, data in zip(test_row, test_col, test_data):\n",
    "    if row not in test_entries_by_user:\n",
    "        test_entries_by_user[row] = []\n",
    "    test_entries_by_user[row].append((col, data))\n",
    "\n",
    "train_and_test_rows = []\n",
    "train_and_test_cols = []\n",
    "train_and_test_data = []\n",
    "\n",
    "rest_test_rows = []\n",
    "rest_test_cols = []\n",
    "rest_test_data = []\n",
    "\n",
    "np.random.seed(42)\n",
    "\n",
    "for user, entries in test_entries_by_user.items():\n",
    "    entries = np.array(entries)\n",
    "    np.random.shuffle(entries)\n",
    "    \n",
    "    num_entries = len(entries)\n",
    "    split_idx = int(num_entries * 0.6)\n",
    "    \n",
    "    for col, data in entries[:split_idx]:\n",
    "        train_and_test_rows.append(user)\n",
    "        train_and_test_cols.append(col)\n",
    "        train_and_test_data.append(data)\n",
    "\n",
    "    for col, data in entries[split_idx:]:\n",
    "        rest_test_rows.append(user)\n",
    "        rest_test_cols.append(col)\n",
    "        rest_test_data.append(data)\n",
    "\n",
    "train_and_test_matrix = coo_matrix((\n",
    "    np.hstack([train_matrix.data, train_and_test_data]),\n",
    "    (\n",
    "        np.hstack([train_matrix.row, train_and_test_rows]),\n",
    "        np.hstack([train_matrix.col, train_and_test_cols])\n",
    "    )\n",
    "), shape=train_matrix.shape)\n",
    "\n",
    "rest_test_matrix = coo_matrix((\n",
    "    rest_test_data,\n",
    "    (rest_test_rows, rest_test_cols)\n",
    "), shape=test_matrix.shape)\n",
    "\n",
    "save_npz('./data/train_and_test.npz', train_and_test_matrix)\n",
    "save_npz('./data/rest_test.npz', rest_test_matrix)"
   ]
  }
 ],
 "metadata": {
  "kernelspec": {
   "display_name": "env",
   "language": "python",
   "name": "python3"
  },
  "language_info": {
   "codemirror_mode": {
    "name": "ipython",
    "version": 3
   },
   "file_extension": ".py",
   "mimetype": "text/x-python",
   "name": "python",
   "nbconvert_exporter": "python",
   "pygments_lexer": "ipython3",
   "version": "3.8.16"
  }
 },
 "nbformat": 4,
 "nbformat_minor": 2
}
