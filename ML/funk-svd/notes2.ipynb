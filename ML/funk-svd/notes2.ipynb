{
 "cells": [
  {
   "cell_type": "code",
   "execution_count": 1,
   "metadata": {},
   "outputs": [],
   "source": [
    "import pandas as pd \n",
    "import numpy as np \n",
    "from sklearn.model_selection import train_test_split\n",
    "from sklearn.metrics import mean_squared_error\n",
    "import tempfile\n",
    "import os\n",
    "from scipy.sparse import coo_matrix"
   ]
  },
  {
   "cell_type": "markdown",
   "metadata": {},
   "source": [
    "steam game reviews:\n",
    "95 - 100 | 500+ reviews | positive | overwhelming\\\n",
    "85 - 100 |  50+ reviews | positive | very\\\n",
    "80 - 100 |   1+ reviews | positive\\\n",
    "70 -  79 |   1+ reviews | positive | mostly\\\n",
    "40 -  69 |   1+ reviews | mixed\\\n",
    "20 -  39 |   1+ reviews | negative | mostly\\\n",
    " 0 -  19 |   1+ reviews | negative\\\n",
    " 0 -  19 |  50+ reviews | negative | very\\\n",
    " 0 -  19 | 500+ reviews | negative | overwhelming"
   ]
  },
  {
   "cell_type": "code",
   "execution_count": 2,
   "metadata": {},
   "outputs": [],
   "source": [
    "users = pd.read_csv('../users.csv')\n",
    "games = pd.read_csv('../games.csv')\n",
    "recommendations = pd.read_csv('../recommendations.csv')"
   ]
  },
  {
   "cell_type": "code",
   "execution_count": 4,
   "metadata": {},
   "outputs": [
    {
     "ename": "KeyboardInterrupt",
     "evalue": "",
     "output_type": "error",
     "traceback": [
      "\u001b[1;31m---------------------------------------------------------------------------\u001b[0m",
      "\u001b[1;31mKeyboardInterrupt\u001b[0m                         Traceback (most recent call last)",
      "Cell \u001b[1;32mIn[4], line 4\u001b[0m\n\u001b[0;32m      1\u001b[0m unique_userid \u001b[38;5;241m=\u001b[39m users[\u001b[38;5;124m'\u001b[39m\u001b[38;5;124muser_id\u001b[39m\u001b[38;5;124m'\u001b[39m]\u001b[38;5;241m.\u001b[39munique()\n\u001b[0;32m      2\u001b[0m unique_appid \u001b[38;5;241m=\u001b[39m games[\u001b[38;5;124m'\u001b[39m\u001b[38;5;124mapp_id\u001b[39m\u001b[38;5;124m'\u001b[39m]\u001b[38;5;241m.\u001b[39munique()\n\u001b[1;32m----> 4\u001b[0m user_index \u001b[38;5;241m=\u001b[39m {user_id: idx \u001b[38;5;28;01mfor\u001b[39;00m idx, user_id \u001b[38;5;129;01min\u001b[39;00m \u001b[38;5;28menumerate\u001b[39m(unique_userid)}\n\u001b[0;32m      5\u001b[0m app_index \u001b[38;5;241m=\u001b[39m {app_id: idx \u001b[38;5;28;01mfor\u001b[39;00m idx, app_id \u001b[38;5;129;01min\u001b[39;00m \u001b[38;5;28menumerate\u001b[39m(unique_appid)}\n\u001b[0;32m      7\u001b[0m row_indices \u001b[38;5;241m=\u001b[39m []\n",
      "\u001b[1;31mKeyboardInterrupt\u001b[0m: "
     ]
    }
   ],
   "source": [
    "unique_userid = users['user_id'].unique()\n",
    "unique_appid = games['app_id'].unique()\n",
    "\n",
    "user_index = {user_id: idx for idx, user_id in enumerate(unique_userid)}\n",
    "app_index = {app_id: idx for idx, app_id in enumerate(unique_appid)}\n",
    "\n",
    "row_indices = []\n",
    "col_indices = []\n",
    "data = []\n",
    "\n",
    "for _,row in recommendations.iterrows():\n",
    "    user_id = row['user_id']\n",
    "    app_id = row['app_id']\n",
    "    is_recommended = row['score']\n",
    "\n",
    "    row_indices.append(user_index[user_id])\n",
    "    col_indices.append(app_index[app_id])\n",
    "    data.append(1 if is_recommended else 0)"
   ]
  },
  {
   "cell_type": "code",
   "execution_count": 4,
   "metadata": {},
   "outputs": [],
   "source": [
    "num_users = len(unique_userid)\n",
    "num_games = len(unique_appid)\n",
    "rating_matrix_sparse = coo_matrix((data, (row_indices, col_indices)), shape=(num_users, num_games))"
   ]
  },
  {
   "cell_type": "code",
   "execution_count": 5,
   "metadata": {},
   "outputs": [],
   "source": [
    "from scipy.sparse import save_npz\n",
    "save_npz('../rating_matrix_sparse_scores.npz', rating_matrix_sparse)"
   ]
  },
  {
   "cell_type": "code",
   "execution_count": 7,
   "metadata": {},
   "outputs": [],
   "source": [
    "rating_matrix_csr = rating_matrix_sparse.tocsr()"
   ]
  },
  {
   "cell_type": "code",
   "execution_count": 11,
   "metadata": {},
   "outputs": [
    {
     "name": "stdout",
     "output_type": "stream",
     "text": [
      "<Compressed Sparse Row sparse matrix of dtype 'int64'\n",
      "\twith 1 stored elements and shape (1, 50872)>\n",
      "  Coords\tValues\n",
      "  (0, 47701)\t1\n"
     ]
    }
   ],
   "source": [
    "print(rating_matrix_csr[7360263])"
   ]
  },
  {
   "cell_type": "code",
   "execution_count": null,
   "metadata": {},
   "outputs": [
    {
     "name": "stdout",
     "output_type": "stream",
     "text": [
      "Epoch 1/50, Total Error: 35309645.6908\n",
      "Epoch 2/50, Total Error: 35295227.8336\n",
      "Epoch 3/50, Total Error: 35271044.8506\n",
      "Epoch 4/50, Total Error: 35106353.2280\n",
      "Epoch 5/50, Total Error: 34314316.5735\n",
      "Epoch 6/50, Total Error: 32537312.8388\n",
      "Epoch 7/50, Total Error: 30125527.5908\n",
      "Epoch 8/50, Total Error: 27592696.2391\n",
      "Epoch 9/50, Total Error: 25238583.8596\n",
      "Epoch 10/50, Total Error: 23162314.5223\n",
      "Epoch 11/50, Total Error: 21365541.7268\n",
      "Epoch 12/50, Total Error: 19816614.4507\n",
      "Epoch 13/50, Total Error: 18477593.4206\n",
      "Epoch 14/50, Total Error: 17313541.7312\n",
      "Epoch 15/50, Total Error: 16294902.2610\n",
      "Epoch 16/50, Total Error: 15397463.3396\n",
      "Epoch 17/50, Total Error: 14601613.8487\n",
      "Epoch 18/50, Total Error: 13891494.3495\n",
      "Epoch 19/50, Total Error: 13254239.2678\n",
      "Epoch 20/50, Total Error: 12679354.7025\n",
      "Epoch 21/50, Total Error: 12158225.0347\n",
      "Epoch 22/50, Total Error: 11683727.2222\n",
      "Epoch 23/50, Total Error: 11249930.5869\n",
      "Epoch 24/50, Total Error: 10851862.9552\n",
      "Epoch 25/50, Total Error: 10485327.8209\n",
      "Epoch 26/50, Total Error: 10146760.6594\n",
      "Epoch 27/50, Total Error: 9833115.3317\n",
      "Epoch 28/50, Total Error: 9541773.7043\n",
      "Epoch 29/50, Total Error: 9270473.2718\n",
      "Epoch 30/50, Total Error: 9017248.8215\n",
      "Epoch 31/50, Total Error: 8780385.1166\n",
      "Epoch 32/50, Total Error: 8558378.2800\n",
      "Epoch 33/50, Total Error: 8349904.0917\n"
     ]
    }
   ],
   "source": [
    "from scipy.sparse import load_npz\n",
    "rating_matrix_sparse = load_npz('rating_matrix_sparse.npz')\n",
    "\n",
    "# Parameters\n",
    "num_users, num_games = rating_matrix_sparse.shape\n",
    "num_latent_features = 10  # Number of latent features\n",
    "learning_rate = 0.01      # Learning rate for gradient descent\n",
    "regularization = 0.1      # Regularization term to prevent overfitting\n",
    "num_epochs = 50           # Number of epochs for training\n",
    "\n",
    "# Initialize U and V matrices with small random values\n",
    "U = np.random.normal(scale=1.0 / num_latent_features, size=(num_users, num_latent_features)) #user\n",
    "V = np.random.normal(scale=1.0 / num_latent_features, size=(num_games, num_latent_features)) #game\n",
    "\n",
    "# Training loop\n",
    "for epoch in range(num_epochs):\n",
    "    total_error = 0\n",
    "    \n",
    "    # Iterate over all non-zero entries in the sparse matrix\n",
    "    for user_idx, game_idx, rating in zip(rating_matrix_sparse.row, rating_matrix_sparse.col, rating_matrix_sparse.data):\n",
    "        # Predict the rating using the dot product of U[user_idx] and V[game_idx]\n",
    "        prediction = np.dot(U[user_idx], V[game_idx])\n",
    "        error = rating - prediction\n",
    "        \n",
    "        # Update U and V using gradient descent\n",
    "        U[user_idx] += learning_rate * (error * V[game_idx] - regularization * U[user_idx])\n",
    "        V[game_idx] += learning_rate * (error * U[user_idx] - regularization * V[game_idx])\n",
    "        \n",
    "        total_error += error ** 2\n",
    "    \n",
    "    print(f\"Epoch {epoch + 1}/{num_epochs}, Total Error: {total_error:.4f}\")\n",
    "\n",
    "print(\"Training completed.\")"
   ]
  },
  {
   "cell_type": "code",
   "execution_count": null,
   "metadata": {},
   "outputs": [],
   "source": []
  }
 ],
 "metadata": {
  "kernelspec": {
   "display_name": ".env",
   "language": "python",
   "name": "python3"
  },
  "language_info": {
   "codemirror_mode": {
    "name": "ipython",
    "version": 3
   },
   "file_extension": ".py",
   "mimetype": "text/x-python",
   "name": "python",
   "nbconvert_exporter": "python",
   "pygments_lexer": "ipython3",
   "version": "3.12.4"
  }
 },
 "nbformat": 4,
 "nbformat_minor": 2
}
