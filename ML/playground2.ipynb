{
 "cells": [
  {
   "cell_type": "code",
   "execution_count": null,
   "metadata": {},
   "outputs": [],
   "source": [
    "import numpy as np\n",
    "import pandas as pd\n",
    "import scann\n",
    "from lightfm import LightFM\n",
    "from scipy.sparse import coo_matrix"
   ]
  },
  {
   "cell_type": "code",
   "execution_count": null,
   "metadata": {},
   "outputs": [],
   "source": [
    "# -----------------=[ Data reading ]=----------------\n",
    "\n",
    "usersM = pd.read_csv('./users.csv')\n",
    "gamesM = pd.read_csv('./games.csv')\n",
    "recommendationsM = pd.read_csv('./recommendations.csv')"
   ]
  },
  {
   "cell_type": "code",
   "execution_count": null,
   "metadata": {},
   "outputs": [],
   "source": []
  },
  {
   "cell_type": "code",
   "execution_count": null,
   "metadata": {},
   "outputs": [],
   "source": [
    "# -------------------=[ Mappers ]=-------------------\n",
    "\n",
    "usersV = usersM['user_id'].unique()\n",
    "gamesV = gamesM['app_id'].unique()\n",
    "\n",
    "uID_to_idx = {userId: idx for idx, userId in enumerate(usersV)}\n",
    "gID_to_idx = {gameId: idx for idx, gameId in enumerate(gamesV)}\n",
    "idx_to_uID = {idx: userId for idx, userId in enumerate(usersV)}\n",
    "idx_to_gID = {idx: gameId for idx, gameId in enumerate(gamesV)}"
   ]
  },
  {
   "cell_type": "code",
   "execution_count": null,
   "metadata": {},
   "outputs": [],
   "source": [
    "# -------------=[ User x Game Matrix ]=--------------\n",
    "users = []\n",
    "games = []\n",
    "interaction = []\n",
    "\n",
    "\n",
    "\n",
    "USERxGAME = coo_matrix(interaction, (users, games)).tocsr()"
   ]
  },
  {
   "cell_type": "code",
   "execution_count": null,
   "metadata": {},
   "outputs": [],
   "source": [
    "# -------------=[ Game feature Matrix ]=-------------\n",
    "# TODO"
   ]
  },
  {
   "cell_type": "code",
   "execution_count": null,
   "metadata": {},
   "outputs": [],
   "source": [
    "# ----------------=[ Model training ]=---------------\n",
    "\n",
    "model = LightFM(learning_schedule='adagrad', loss='warp')\n",
    "#model.fit(USERxGAME, epochs=50, num_threads=6)\n",
    "itemEmbeddings = model.item_embeddings\n",
    "userEmbeddings = model.user_embeddings\n",
    "\n",
    "itemEmbeddings = itemEmbeddings / np.linalg.norm(itemEmbeddings, axis=1, keepdims=True)\n",
    "userEmbeddings = userEmbeddings / np.linalg.norm(userEmbeddings, axis=1, keepdims=True)\n",
    "\n",
    "scannSearcher = scann.scann_ops_pybind.builder(itemEmbeddings, 5, \"dot_product\").score_ah(2).build()"
   ]
  },
  {
   "cell_type": "code",
   "execution_count": null,
   "metadata": {},
   "outputs": [],
   "source": [
    "# -----------------=[ Prediction ]=------------------\n",
    "\n",
    "def predict(userVec, k):\n",
    "  pass\n"
   ]
  },
  {
   "cell_type": "code",
   "execution_count": null,
   "metadata": {},
   "outputs": [],
   "source": [
    "# ------------------=[ Metrics ]=--------------------"
   ]
  }
 ],
 "metadata": {
  "kernelspec": {
   "display_name": "env",
   "language": "python",
   "name": "python3"
  },
  "language_info": {
   "codemirror_mode": {
    "name": "ipython",
    "version": 3
   },
   "file_extension": ".py",
   "mimetype": "text/x-python",
   "name": "python",
   "nbconvert_exporter": "python",
   "pygments_lexer": "ipython3",
   "version": "3.8.16"
  }
 },
 "nbformat": 4,
 "nbformat_minor": 2
}
