{
 "cells": [
  {
   "cell_type": "code",
   "execution_count": 1,
   "metadata": {},
   "outputs": [
    {
     "name": "stderr",
     "output_type": "stream",
     "text": [
      "2025-01-14 10:16:34.822859: I tensorflow/core/util/port.cc:110] oneDNN custom operations are on. You may see slightly different numerical results due to floating-point round-off errors from different computation orders. To turn them off, set the environment variable `TF_ENABLE_ONEDNN_OPTS=0`.\n",
      "2025-01-14 10:16:34.923581: I tensorflow/tsl/cuda/cudart_stub.cc:28] Could not find cuda drivers on your machine, GPU will not be used.\n",
      "2025-01-14 10:16:35.238932: I tensorflow/tsl/cuda/cudart_stub.cc:28] Could not find cuda drivers on your machine, GPU will not be used.\n",
      "2025-01-14 10:16:35.241538: I tensorflow/core/platform/cpu_feature_guard.cc:182] This TensorFlow binary is optimized to use available CPU instructions in performance-critical operations.\n",
      "To enable the following instructions: AVX2 AVX_VNNI FMA, in other operations, rebuild TensorFlow with the appropriate compiler flags.\n",
      "2025-01-14 10:16:37.273884: W tensorflow/compiler/tf2tensorrt/utils/py_utils.cc:38] TF-TRT Warning: Could not find TensorRT\n"
     ]
    }
   ],
   "source": [
    "import numpy as np\n",
    "import pandas as pd\n",
    "import scann\n",
    "from lightfm import LightFM\n",
    "from tqdm import tqdm\n",
    "from scipy.sparse import load_npz"
   ]
  },
  {
   "cell_type": "code",
   "execution_count": 2,
   "metadata": {},
   "outputs": [],
   "source": [
    "# -----------------=[ Data reading ]=----------------\n",
    "\n",
    "# Base data\n",
    "users = pd.read_csv('./data/users.csv')\n",
    "games = pd.read_csv('./data/games.csv')\n",
    "recommendations = pd.read_csv('./data/recommendations.csv')\n",
    "games_metadata = pd.read_json('./data/games_metadata.json', lines=True)\n",
    "\n",
    "# User and Games interaction matrix\n",
    "interactions = load_npz('./data/rating_matrix_sparse.npz')"
   ]
  },
  {
   "cell_type": "code",
   "execution_count": 3,
   "metadata": {},
   "outputs": [],
   "source": [
    "# -------------------=[ Mappers ]=-------------------\n",
    "\n",
    "# Extract unique user and game IDs\n",
    "unique_user_ids = users['user_id'].unique()\n",
    "unique_game_ids = games['app_id'].unique()\n",
    "\n",
    "# Create mappers\n",
    "user_id_to_index = {user_id: idx for idx, user_id in enumerate(unique_user_ids)}\n",
    "game_id_to_index = {game_id: idx for idx, game_id in enumerate(unique_game_ids)}\n",
    "index_to_user_id = {idx: user_id for user_id, idx in user_id_to_index.items()}\n",
    "index_to_game_id = {idx: game_id for game_id, idx in game_id_to_index.items()}\n",
    "game_id_to_title = lambda game_id: games[games['app_id'] == game_id]['title'].values[0]"
   ]
  },
  {
   "cell_type": "code",
   "execution_count": 4,
   "metadata": {},
   "outputs": [],
   "source": [
    "# -------------------=[ Data preparation ]=-------------------\n",
    "\n",
    "def fit(model, interaction_matrix, epochs=10):\n",
    "  for epoch in tqdm(range(1, epochs + 1)):\n",
    "    model.fit_partial(interaction_matrix, epochs=1, num_threads=20)\n",
    "    \n",
    "    item_embeddings = model.item_embeddings\n",
    "    user_embeddings = model.user_embeddings\n",
    "    item_biases = model.item_biases\n",
    "    user_biases = model.user_biases\n",
    "    \n",
    "    np.save('./data/model/item_embeddings.npy', item_embeddings)\n",
    "    np.save('./data/model/user_embeddings.npy', user_embeddings)\n",
    "    np.save('./data/model/item_biases.npy', item_biases)\n",
    "    np.save('./data/model/user_biases.npy', user_biases)\n",
    "\n",
    "def loadModel() -> LightFM:\n",
    "  item_embeddings = np.load('./data/model/item_embeddings.npy')\n",
    "  user_embeddings = np.load('./data/model/user_embeddings.npy')\n",
    "  \n",
    "  item_biases = np.load('./data/model/item_biases.npy')\n",
    "  user_biases = np.load('./data/model/user_biases.npy')\n",
    "\n",
    "  model = LightFM(learning_schedule='adagrad', loss='warp')\n",
    "\n",
    "  model.item_embeddings = item_embeddings\n",
    "  model.user_embeddings = user_embeddings\n",
    "  model.item_biases = item_biases\n",
    "  model.user_biases = user_biases\n",
    "\n",
    "  return model"
   ]
  },
  {
   "cell_type": "code",
   "execution_count": 5,
   "metadata": {},
   "outputs": [],
   "source": [
    "# ----------------=[ Model training ]=---------------\n",
    "\n",
    "model = loadModel()\n",
    "#fit(model, interactions, epochs=1)"
   ]
  },
  {
   "cell_type": "code",
   "execution_count": 6,
   "metadata": {},
   "outputs": [],
   "source": [
    "# -----------------=[ Prediction ]=------------------\n",
    "\n",
    "def recommend_with_user(user_id, searcher, model):\n",
    "  user_index = user_id_to_index[user_id]\n",
    "  user_embedding = model.user_embeddings[user_index]\n",
    "\n",
    "  indecies, scores = searcher.search(user_embedding)\n",
    "\n",
    "  return [index_to_game_id[index] for index in indecies]\n",
    "\n",
    "\n",
    "def recommend_with_game(game_id, searcher, model):\n",
    "  game_index = game_id_to_index[game_id]\n",
    "  game_embedding = model.item_embeddings[game_index]\n",
    "  indecies, scores = searcher.search(game_embedding)\n",
    "\n",
    "  return [index_to_game_id[idx] for idx in indecies]"
   ]
  },
  {
   "cell_type": "code",
   "execution_count": 7,
   "metadata": {},
   "outputs": [],
   "source": [
    "interactions = interactions.tocsr()"
   ]
  },
  {
   "cell_type": "code",
   "execution_count": 8,
   "metadata": {},
   "outputs": [],
   "source": [
    "def list_user_liked_games(user_id):\n",
    "  user_index = user_id_to_index[user_id]\n",
    "  user_ratings = interactions[user_index].toarray()[0]\n",
    "\n",
    "  games = []\n",
    "\n",
    "  for idx, rating in enumerate(user_ratings):\n",
    "    if rating == 1:\n",
    "      games.append(index_to_game_id[idx])\n",
    "\n",
    "  return games"
   ]
  },
  {
   "cell_type": "code",
   "execution_count": 9,
   "metadata": {},
   "outputs": [],
   "source": [
    "def test_recommend(user_id):\n",
    "  '''\n",
    "  Tests recommendations by comparing real liked games with model predictions.\n",
    "\n",
    "  Args:\n",
    "    user_id (int): The user's ID.\n",
    "\n",
    "  Returns:\n",
    "    dict: A comparison of real liked games and model-predicted games.\n",
    "  '''\n",
    "  real = list_user_liked_games(user_id)  # Actual liked games\n",
    "  user_index = user_id_to_index[user_id]\n",
    "\n",
    "  # Extract user embedding and bias\n",
    "  user_embedding = model.user_embeddings[user_index]\n",
    "  user_bias = model.user_biases[user_index]\n",
    "\n",
    "  # Compute scores for all items\n",
    "  scores = (\n",
    "    np.dot(model.item_embeddings, user_embedding)  # Dot product with item embeddings\n",
    "    + user_bias                                        # Add user bias\n",
    "    + model.item_biases                           # Add item biases\n",
    "  )\n",
    "\n",
    "  # Sort items by score in descending order and retrieve top recommendations\n",
    "  recommended_indices = np.argsort(-scores)[:5]\n",
    "  recommended_games = [index_to_game_id[idx] for idx in recommended_indices]\n",
    "\n",
    "  return len(set(recommended_games).intersection(set(real)))"
   ]
  },
  {
   "cell_type": "code",
   "execution_count": 18,
   "metadata": {},
   "outputs": [
    {
     "name": "stderr",
     "output_type": "stream",
     "text": [
      "2025-01-14 10:20:23.914643: I scann/base/single_machine_factory_scann.cc:153] Single-machine AH training with dataset size = 50872, 20 thread(s).\n"
     ]
    }
   ],
   "source": [
    "# ----------------=[ ScaNN ]=---------------\n",
    "\n",
    "searcher = scann.scann_ops_pybind.builder(model.item_embeddings, 20, \"dot_product\").score_ah(2).build()"
   ]
  },
  {
   "cell_type": "code",
   "execution_count": 11,
   "metadata": {},
   "outputs": [
    {
     "name": "stdout",
     "output_type": "stream",
     "text": [
      "Predicted: ['Under Lock', 'Deadly Flare', 'Jaws Of Extinction™', 'Remnants', 'MetaPhysical', 'Chicken Feet', 'SOMNI', 'Sinister Night', 'Marauders', 'Sign of Silence']\n",
      "Real: ['Sinister Night', 'Breakwaters', 'The Callisto Protocol™', 'Deadly Flare', 'Marauders', 'Jaws Of Extinction™', 'Hood: Outlaws & Legends', 'Sign of Silence']\n",
      "Intersection: 5\n"
     ]
    }
   ],
   "source": [
    "# ----------------=[ Testing Users ]=------------------\n",
    "\n",
    "user_id = 7423292\n",
    "\n",
    "predicted = list(recommend_with_user(user_id, searcher, model))\n",
    "real = list(list_user_liked_games(user_id))\n",
    "\n",
    "\n",
    "\n",
    "print(f'Predicted: {list(map(game_id_to_title, predicted))}')\n",
    "print(f'Real: {list(map(game_id_to_title, real))}')\n",
    "\n",
    "print(f'Intersection: {len(set(predicted).intersection(set(real)))}')"
   ]
  },
  {
   "cell_type": "code",
   "execution_count": 14,
   "metadata": {},
   "outputs": [],
   "source": [
    "def weight(game_id):\n",
    "  pass"
   ]
  },
  {
   "cell_type": "code",
   "execution_count": 19,
   "metadata": {},
   "outputs": [
    {
     "name": "stdout",
     "output_type": "stream",
     "text": [
      "['Half-Life 2: Episode Two', 'Half-Life: Opposing Force', 'Half-Life 2', 'Half-Life 2: Episode One', 'Half-Life: Blue Shift', 'Half-Life 2: Lost Coast', 'Half-Life', 'Black Mesa', 'Half-Life: Source', 'Half-Life 2: DownFall', 'Half-Life 2: Deathmatch', 'Half-Life: Caged', 'MINERVA', 'Half-Life 2: Year Long Alarm', 'Prospekt', 'Transmissions: Element 120', 'Amalgam', \"Half-Life 2: Genry's Great Escape From City 13\", 'Team Fortress Classic', 'Deathmatch Classic']\n"
     ]
    }
   ],
   "source": [
    "# ----------------=[ Testing Games ]=------------------\n",
    "\n",
    "game_title = 'Half-Life 2'\n",
    "\n",
    "game_id = games[games['title'] == game_title]['app_id'].values[0]\n",
    "\n",
    "# user\n",
    "\n",
    "\n",
    "predicted = recommend_with_game(game_id, searcher, model)\n",
    "\n",
    "print(list(map(game_id_to_title, predicted)))"
   ]
  }
 ],
 "metadata": {
  "kernelspec": {
   "display_name": "env",
   "language": "python",
   "name": "python3"
  },
  "language_info": {
   "codemirror_mode": {
    "name": "ipython",
    "version": 3
   },
   "file_extension": ".py",
   "mimetype": "text/x-python",
   "name": "python",
   "nbconvert_exporter": "python",
   "pygments_lexer": "ipython3",
   "version": "3.8.16"
  }
 },
 "nbformat": 4,
 "nbformat_minor": 2
}
