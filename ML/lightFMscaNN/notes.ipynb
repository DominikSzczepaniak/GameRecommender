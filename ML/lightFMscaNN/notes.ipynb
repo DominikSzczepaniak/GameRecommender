{
 "cells": [
  {
   "cell_type": "markdown",
   "metadata": {},
   "source": [
    "# LightFM & ScaNN  |  Game Recommendation System"
   ]
  },
  {
   "cell_type": "code",
   "execution_count": 1,
   "metadata": {},
   "outputs": [
    {
     "name": "stderr",
     "output_type": "stream",
     "text": [
      "2025-01-20 23:43:28.943500: I tensorflow/core/util/port.cc:110] oneDNN custom operations are on. You may see slightly different numerical results due to floating-point round-off errors from different computation orders. To turn them off, set the environment variable `TF_ENABLE_ONEDNN_OPTS=0`.\n",
      "2025-01-20 23:43:28.944734: I tensorflow/tsl/cuda/cudart_stub.cc:28] Could not find cuda drivers on your machine, GPU will not be used.\n",
      "2025-01-20 23:43:28.969484: I tensorflow/tsl/cuda/cudart_stub.cc:28] Could not find cuda drivers on your machine, GPU will not be used.\n",
      "2025-01-20 23:43:28.970018: I tensorflow/core/platform/cpu_feature_guard.cc:182] This TensorFlow binary is optimized to use available CPU instructions in performance-critical operations.\n",
      "To enable the following instructions: AVX2 AVX_VNNI FMA, in other operations, rebuild TensorFlow with the appropriate compiler flags.\n",
      "2025-01-20 23:43:29.422042: W tensorflow/compiler/tf2tensorrt/utils/py_utils.cc:38] TF-TRT Warning: Could not find TensorRT\n"
     ]
    }
   ],
   "source": [
    "# -----------------=[ Load Dependencies ]=----------------\n",
    "\n",
    "import numpy as np\n",
    "import pandas as pd\n",
    "import scann\n",
    "from lightfm import LightFM\n",
    "from lightfm.data import Dataset\n",
    "from tqdm import tqdm\n",
    "from scipy.sparse import load_npz\n",
    "import pickle\n",
    "from sklearn.preprocessing import MultiLabelBinarizer"
   ]
  },
  {
   "cell_type": "markdown",
   "metadata": {},
   "source": [
    "## 1. Data preprocessing"
   ]
  },
  {
   "cell_type": "code",
   "execution_count": 2,
   "metadata": {},
   "outputs": [],
   "source": [
    "# -----------------=[ Data reading ]=----------------\n",
    "\n",
    "users = pd.read_csv('./data/users.csv')\n",
    "games = pd.read_csv('./data/games.csv')\n",
    "recommendations = pd.read_csv('./data/recommendations.csv')\n",
    "gamesMetadata = pd.read_json('./data/games_metadata.json', lines=True)\n",
    "\n",
    "interactions = load_npz('./data/train_and_test.npz').tocsr()\n",
    "\n",
    "# Test users with 40% of history (This is used for testing)\n",
    "rest_test = load_npz('./data/rest_test.npz').tocsr()\n",
    "\n",
    "# Test users with 100% history (Used for getting user indicies)\n",
    "test_matrix = load_npz('./data/test_matrix.npz').tocsr()"
   ]
  },
  {
   "cell_type": "code",
   "execution_count": 3,
   "metadata": {},
   "outputs": [],
   "source": [
    "# -------------------=[ Mappers ]=-------------------\n",
    "\n",
    "userIds = users['user_id'].unique()\n",
    "gameIds = games['app_id'].unique()\n",
    "\n",
    "mapUserId = {user_id: idx for idx, user_id in enumerate(userIds)}\n",
    "mapGameId = {game_id: idx for idx, game_id in enumerate(gameIds)}\n",
    "mapUserIndex = {idx: user_id for user_id, idx in mapUserId.items()}\n",
    "mapGameIndex = {idx: game_id for game_id, idx in mapGameId.items()}\n",
    "\n",
    "mapToTitle = lambda game_id: games[games['app_id'] == game_id]['title'].values[0]"
   ]
  },
  {
   "cell_type": "code",
   "execution_count": 4,
   "metadata": {},
   "outputs": [],
   "source": [
    "# -------------------=[ Game Features ]=-------------------\n",
    "\n",
    "mlb = MultiLabelBinarizer()\n",
    "feature_matrix = mlb.fit_transform(gamesMetadata['tags'])\n",
    "\n",
    "feature_matrix_df = pd.DataFrame(feature_matrix, columns=mlb.classes_)\n",
    "\n",
    "dataset = Dataset()\n",
    "\n",
    "dataset.fit(\n",
    "  items=gameIds,\n",
    "  users=userIds,\n",
    "  item_features=feature_matrix_df\n",
    ")\n",
    "\n",
    "item_features = dataset.build_item_features(\n",
    "    ((row['app_id'], [tag]) for _, row in gamesMetadata.iterrows() for tag in row['tags'])\n",
    ")"
   ]
  },
  {
   "cell_type": "markdown",
   "metadata": {},
   "source": [
    "## 2. Model training"
   ]
  },
  {
   "cell_type": "code",
   "execution_count": 4,
   "metadata": {},
   "outputs": [],
   "source": [
    "# -------------------=[ Data preparation ]=-------------------\n",
    "\n",
    "def fit(model, loss, epochs=6):\n",
    "  for epoch in tqdm(range(1, epochs + 1)):\n",
    "    model.fit_partial(interactions, epochs=50, num_threads=20)\n",
    "\n",
    "    with open(f'./data/model/lightfm_{loss}.pkl', 'wb') as f:\n",
    "      pickle.dump(model, f)\n",
    "\n",
    "def loadModel(loss) -> LightFM:\n",
    "  with open(f'./data/model/lightfm_{loss}.pkl', 'rb') as f:\n",
    "    model = pickle.load(f)\n",
    "    return model"
   ]
  },
  {
   "cell_type": "code",
   "execution_count": 5,
   "metadata": {},
   "outputs": [
    {
     "name": "stderr",
     "output_type": "stream",
     "text": [
      "100%|██████████| 12/12 [1:20:21<00:00, 401.78s/it]\n"
     ]
    }
   ],
   "source": [
    "# ----------------=[ Model training ]=---------------\n",
    "\n",
    "model = loadModel('bpr')\n",
    "fit(model, 'bpr', 12)"
   ]
  },
  {
   "cell_type": "code",
   "execution_count": 5,
   "metadata": {},
   "outputs": [],
   "source": [
    "def listUserLikedGames(user_id, matrix):\n",
    "  user_index = mapUserId[user_id]\n",
    "  user_ratings = matrix[user_index].toarray()[0]\n",
    "\n",
    "  games = []\n",
    "\n",
    "  for idx, rating in enumerate(user_ratings):\n",
    "    if rating == 1:\n",
    "      games.append(mapGameIndex[idx])\n",
    "\n",
    "  return games"
   ]
  },
  {
   "cell_type": "code",
   "execution_count": 11,
   "metadata": {},
   "outputs": [],
   "source": [
    "# -----------------=[ Prediction ]=------------------\n",
    "\n",
    "def embedUser(user_id):\n",
    "  user_games = listUserLikedGames(user_id, interactions)\n",
    "\n",
    "  if len(user_games) == 0:\n",
    "    return np.zeros(64)\n",
    "  \n",
    "  game_indices = [mapGameId[game_id] for game_id in user_games]\n",
    "  game_embeddings = model.item_embeddings[game_indices]\n",
    "\n",
    "  user_embedding = np.mean(game_embeddings, axis=0)\n",
    "  \n",
    "  return user_embedding\n",
    "\n",
    "\n",
    "\n",
    "def recommend(user_id, k):\n",
    "    searcher = scann.scann_ops_pybind.builder(model.item_embeddings, k, \"dot_product\").score_ah(1).build()\n",
    "\n",
    "    user_embedding = embedUser(user_id)\n",
    "    indices, scores = searcher.search(user_embedding)\n",
    "\n",
    "    sorted_indices = np.argsort(-scores)\n",
    "    sorted_item_indices = [indices[i] for i in sorted_indices]\n",
    "\n",
    "    return [mapGameIndex[idx] for idx in sorted_item_indices]\n",
    "\n",
    "# -----------------=[ For Fun ]=------------------\n",
    "\n",
    "def similarGames(game_id, k):\n",
    "  searcher = scann.scann_ops_pybind.builder(model.item_embeddings, k, \"dot_product\").score_ah(1).build()\n",
    "  \n",
    "  game_index = mapGameId[game_id]\n",
    "  game_embedding = model.item_embeddings[game_index]\n",
    "  indecies, scores = searcher.search(game_embedding)\n",
    "\n",
    "  return [mapGameIndex[idx] for idx in indecies]"
   ]
  },
  {
   "cell_type": "markdown",
   "metadata": {},
   "source": [
    "## 4. Extras"
   ]
  },
  {
   "cell_type": "code",
   "execution_count": null,
   "metadata": {},
   "outputs": [],
   "source": [
    "# ----------------=[ Testing Games ]=------------------\n",
    "\n",
    "game_title = 'ELDEN RING'\n",
    "\n",
    "game_id = games[games['title'] == game_title]['app_id'].values[0]\n",
    "\n",
    "# user\n",
    "\n",
    "\n",
    "predicted2 = similarGames(game_id, 10)\n",
    "\n",
    "print(list(map(mapToTitle, predicted2)))"
   ]
  },
  {
   "cell_type": "code",
   "execution_count": null,
   "metadata": {},
   "outputs": [],
   "source": [
    "recommend(1723232, 5)"
   ]
  }
 ],
 "metadata": {
  "kernelspec": {
   "display_name": "env",
   "language": "python",
   "name": "python3"
  },
  "language_info": {
   "codemirror_mode": {
    "name": "ipython",
    "version": 3
   },
   "file_extension": ".py",
   "mimetype": "text/x-python",
   "name": "python",
   "nbconvert_exporter": "python",
   "pygments_lexer": "ipython3",
   "version": "3.8.16"
  }
 },
 "nbformat": 4,
 "nbformat_minor": 2
}
