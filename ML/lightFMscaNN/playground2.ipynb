{
 "cells": [
  {
   "cell_type": "code",
   "execution_count": 1,
   "metadata": {},
   "outputs": [
    {
     "name": "stderr",
     "output_type": "stream",
     "text": [
      "2025-01-11 14:16:26.286585: I tensorflow/core/util/port.cc:110] oneDNN custom operations are on. You may see slightly different numerical results due to floating-point round-off errors from different computation orders. To turn them off, set the environment variable `TF_ENABLE_ONEDNN_OPTS=0`.\n",
      "2025-01-11 14:16:26.287768: I tensorflow/tsl/cuda/cudart_stub.cc:28] Could not find cuda drivers on your machine, GPU will not be used.\n",
      "2025-01-11 14:16:26.311566: I tensorflow/tsl/cuda/cudart_stub.cc:28] Could not find cuda drivers on your machine, GPU will not be used.\n",
      "2025-01-11 14:16:26.312425: I tensorflow/core/platform/cpu_feature_guard.cc:182] This TensorFlow binary is optimized to use available CPU instructions in performance-critical operations.\n",
      "To enable the following instructions: AVX2 AVX_VNNI FMA, in other operations, rebuild TensorFlow with the appropriate compiler flags.\n",
      "2025-01-11 14:16:26.733012: W tensorflow/compiler/tf2tensorrt/utils/py_utils.cc:38] TF-TRT Warning: Could not find TensorRT\n"
     ]
    }
   ],
   "source": [
    "import numpy as np\n",
    "import pandas as pd\n",
    "import scann\n",
    "from lightfm import LightFM\n",
    "from scipy.sparse import coo_matrix, save_npz, load_npz"
   ]
  },
  {
   "cell_type": "code",
   "execution_count": 4,
   "metadata": {},
   "outputs": [],
   "source": [
    "# -----------------=[ Data reading ]=----------------\n",
    "\n",
    "usersM = pd.read_csv('./data/users.csv')\n",
    "gamesM = pd.read_csv('./data/games.csv')\n",
    "recommendationsM = pd.read_csv('./data/recommendations.csv')\n",
    "gamesFeaturesM = pd.read_json('./data/games_metadata.json', lines=True)\n"
   ]
  },
  {
   "cell_type": "code",
   "execution_count": 5,
   "metadata": {},
   "outputs": [
    {
     "data": {
      "text/html": [
       "<div>\n",
       "<style scoped>\n",
       "    .dataframe tbody tr th:only-of-type {\n",
       "        vertical-align: middle;\n",
       "    }\n",
       "\n",
       "    .dataframe tbody tr th {\n",
       "        vertical-align: top;\n",
       "    }\n",
       "\n",
       "    .dataframe thead th {\n",
       "        text-align: right;\n",
       "    }\n",
       "</style>\n",
       "<table border=\"1\" class=\"dataframe\">\n",
       "  <thead>\n",
       "    <tr style=\"text-align: right;\">\n",
       "      <th></th>\n",
       "      <th>app_id</th>\n",
       "      <th>description</th>\n",
       "      <th>tags</th>\n",
       "    </tr>\n",
       "  </thead>\n",
       "  <tbody>\n",
       "    <tr>\n",
       "      <th>0</th>\n",
       "      <td>13500</td>\n",
       "      <td>Enter the dark underworld of Prince of Persia ...</td>\n",
       "      <td>[Action, Adventure, Parkour, Third Person, Gre...</td>\n",
       "    </tr>\n",
       "    <tr>\n",
       "      <th>1</th>\n",
       "      <td>22364</td>\n",
       "      <td></td>\n",
       "      <td>[Action]</td>\n",
       "    </tr>\n",
       "    <tr>\n",
       "      <th>2</th>\n",
       "      <td>113020</td>\n",
       "      <td>Monaco: What's Yours Is Mine is a single playe...</td>\n",
       "      <td>[Co-op, Stealth, Indie, Heist, Local Co-Op, St...</td>\n",
       "    </tr>\n",
       "    <tr>\n",
       "      <th>3</th>\n",
       "      <td>226560</td>\n",
       "      <td>Escape Dead Island is a Survival-Mystery adven...</td>\n",
       "      <td>[Zombies, Adventure, Survival, Action, Third P...</td>\n",
       "    </tr>\n",
       "    <tr>\n",
       "      <th>4</th>\n",
       "      <td>249050</td>\n",
       "      <td>Dungeon of the Endless is a Rogue-Like Dungeon...</td>\n",
       "      <td>[Roguelike, Strategy, Tower Defense, Pixel Gra...</td>\n",
       "    </tr>\n",
       "  </tbody>\n",
       "</table>\n",
       "</div>"
      ],
      "text/plain": [
       "   app_id                                        description  \\\n",
       "0   13500  Enter the dark underworld of Prince of Persia ...   \n",
       "1   22364                                                      \n",
       "2  113020  Monaco: What's Yours Is Mine is a single playe...   \n",
       "3  226560  Escape Dead Island is a Survival-Mystery adven...   \n",
       "4  249050  Dungeon of the Endless is a Rogue-Like Dungeon...   \n",
       "\n",
       "                                                tags  \n",
       "0  [Action, Adventure, Parkour, Third Person, Gre...  \n",
       "1                                           [Action]  \n",
       "2  [Co-op, Stealth, Indie, Heist, Local Co-Op, St...  \n",
       "3  [Zombies, Adventure, Survival, Action, Third P...  \n",
       "4  [Roguelike, Strategy, Tower Defense, Pixel Gra...  "
      ]
     },
     "execution_count": 5,
     "metadata": {},
     "output_type": "execute_result"
    }
   ],
   "source": [
    "gamesFeaturesM.head()"
   ]
  },
  {
   "cell_type": "code",
   "execution_count": 4,
   "metadata": {},
   "outputs": [
    {
     "data": {
      "text/html": [
       "<div>\n",
       "<style scoped>\n",
       "    .dataframe tbody tr th:only-of-type {\n",
       "        vertical-align: middle;\n",
       "    }\n",
       "\n",
       "    .dataframe tbody tr th {\n",
       "        vertical-align: top;\n",
       "    }\n",
       "\n",
       "    .dataframe thead th {\n",
       "        text-align: right;\n",
       "    }\n",
       "</style>\n",
       "<table border=\"1\" class=\"dataframe\">\n",
       "  <thead>\n",
       "    <tr style=\"text-align: right;\">\n",
       "      <th></th>\n",
       "      <th>app_id</th>\n",
       "      <th>title</th>\n",
       "      <th>date_release</th>\n",
       "      <th>win</th>\n",
       "      <th>mac</th>\n",
       "      <th>linux</th>\n",
       "      <th>rating</th>\n",
       "      <th>positive_ratio</th>\n",
       "      <th>user_reviews</th>\n",
       "      <th>price_final</th>\n",
       "      <th>price_original</th>\n",
       "      <th>discount</th>\n",
       "      <th>steam_deck</th>\n",
       "    </tr>\n",
       "  </thead>\n",
       "  <tbody>\n",
       "    <tr>\n",
       "      <th>0</th>\n",
       "      <td>13500</td>\n",
       "      <td>Prince of Persia: Warrior Within™</td>\n",
       "      <td>2008-11-21</td>\n",
       "      <td>True</td>\n",
       "      <td>False</td>\n",
       "      <td>False</td>\n",
       "      <td>Very Positive</td>\n",
       "      <td>84</td>\n",
       "      <td>2199</td>\n",
       "      <td>9.99</td>\n",
       "      <td>9.99</td>\n",
       "      <td>0.0</td>\n",
       "      <td>True</td>\n",
       "    </tr>\n",
       "    <tr>\n",
       "      <th>1</th>\n",
       "      <td>22364</td>\n",
       "      <td>BRINK: Agents of Change</td>\n",
       "      <td>2011-08-03</td>\n",
       "      <td>True</td>\n",
       "      <td>False</td>\n",
       "      <td>False</td>\n",
       "      <td>Positive</td>\n",
       "      <td>85</td>\n",
       "      <td>21</td>\n",
       "      <td>2.99</td>\n",
       "      <td>2.99</td>\n",
       "      <td>0.0</td>\n",
       "      <td>True</td>\n",
       "    </tr>\n",
       "    <tr>\n",
       "      <th>2</th>\n",
       "      <td>113020</td>\n",
       "      <td>Monaco: What's Yours Is Mine</td>\n",
       "      <td>2013-04-24</td>\n",
       "      <td>True</td>\n",
       "      <td>True</td>\n",
       "      <td>True</td>\n",
       "      <td>Very Positive</td>\n",
       "      <td>92</td>\n",
       "      <td>3722</td>\n",
       "      <td>14.99</td>\n",
       "      <td>14.99</td>\n",
       "      <td>0.0</td>\n",
       "      <td>True</td>\n",
       "    </tr>\n",
       "    <tr>\n",
       "      <th>3</th>\n",
       "      <td>226560</td>\n",
       "      <td>Escape Dead Island</td>\n",
       "      <td>2014-11-18</td>\n",
       "      <td>True</td>\n",
       "      <td>False</td>\n",
       "      <td>False</td>\n",
       "      <td>Mixed</td>\n",
       "      <td>61</td>\n",
       "      <td>873</td>\n",
       "      <td>14.99</td>\n",
       "      <td>14.99</td>\n",
       "      <td>0.0</td>\n",
       "      <td>True</td>\n",
       "    </tr>\n",
       "    <tr>\n",
       "      <th>4</th>\n",
       "      <td>249050</td>\n",
       "      <td>Dungeon of the ENDLESS™</td>\n",
       "      <td>2014-10-27</td>\n",
       "      <td>True</td>\n",
       "      <td>True</td>\n",
       "      <td>False</td>\n",
       "      <td>Very Positive</td>\n",
       "      <td>88</td>\n",
       "      <td>8784</td>\n",
       "      <td>11.99</td>\n",
       "      <td>11.99</td>\n",
       "      <td>0.0</td>\n",
       "      <td>True</td>\n",
       "    </tr>\n",
       "  </tbody>\n",
       "</table>\n",
       "</div>"
      ],
      "text/plain": [
       "   app_id                              title date_release   win    mac  linux  \\\n",
       "0   13500  Prince of Persia: Warrior Within™   2008-11-21  True  False  False   \n",
       "1   22364            BRINK: Agents of Change   2011-08-03  True  False  False   \n",
       "2  113020       Monaco: What's Yours Is Mine   2013-04-24  True   True   True   \n",
       "3  226560                 Escape Dead Island   2014-11-18  True  False  False   \n",
       "4  249050            Dungeon of the ENDLESS™   2014-10-27  True   True  False   \n",
       "\n",
       "          rating  positive_ratio  user_reviews  price_final  price_original  \\\n",
       "0  Very Positive              84          2199         9.99            9.99   \n",
       "1       Positive              85            21         2.99            2.99   \n",
       "2  Very Positive              92          3722        14.99           14.99   \n",
       "3          Mixed              61           873        14.99           14.99   \n",
       "4  Very Positive              88          8784        11.99           11.99   \n",
       "\n",
       "   discount  steam_deck  \n",
       "0       0.0        True  \n",
       "1       0.0        True  \n",
       "2       0.0        True  \n",
       "3       0.0        True  \n",
       "4       0.0        True  "
      ]
     },
     "execution_count": 4,
     "metadata": {},
     "output_type": "execute_result"
    }
   ],
   "source": [
    "gamesM.head()"
   ]
  },
  {
   "cell_type": "code",
   "execution_count": 5,
   "metadata": {},
   "outputs": [
    {
     "data": {
      "text/html": [
       "<div>\n",
       "<style scoped>\n",
       "    .dataframe tbody tr th:only-of-type {\n",
       "        vertical-align: middle;\n",
       "    }\n",
       "\n",
       "    .dataframe tbody tr th {\n",
       "        vertical-align: top;\n",
       "    }\n",
       "\n",
       "    .dataframe thead th {\n",
       "        text-align: right;\n",
       "    }\n",
       "</style>\n",
       "<table border=\"1\" class=\"dataframe\">\n",
       "  <thead>\n",
       "    <tr style=\"text-align: right;\">\n",
       "      <th></th>\n",
       "      <th>app_id</th>\n",
       "      <th>helpful</th>\n",
       "      <th>funny</th>\n",
       "      <th>date</th>\n",
       "      <th>is_recommended</th>\n",
       "      <th>hours</th>\n",
       "      <th>user_id</th>\n",
       "      <th>review_id</th>\n",
       "    </tr>\n",
       "  </thead>\n",
       "  <tbody>\n",
       "    <tr>\n",
       "      <th>0</th>\n",
       "      <td>975370</td>\n",
       "      <td>0</td>\n",
       "      <td>0</td>\n",
       "      <td>2022-12-12</td>\n",
       "      <td>True</td>\n",
       "      <td>36.3</td>\n",
       "      <td>51580</td>\n",
       "      <td>0</td>\n",
       "    </tr>\n",
       "    <tr>\n",
       "      <th>1</th>\n",
       "      <td>304390</td>\n",
       "      <td>4</td>\n",
       "      <td>0</td>\n",
       "      <td>2017-02-17</td>\n",
       "      <td>False</td>\n",
       "      <td>11.5</td>\n",
       "      <td>2586</td>\n",
       "      <td>1</td>\n",
       "    </tr>\n",
       "    <tr>\n",
       "      <th>2</th>\n",
       "      <td>1085660</td>\n",
       "      <td>2</td>\n",
       "      <td>0</td>\n",
       "      <td>2019-11-17</td>\n",
       "      <td>True</td>\n",
       "      <td>336.5</td>\n",
       "      <td>253880</td>\n",
       "      <td>2</td>\n",
       "    </tr>\n",
       "    <tr>\n",
       "      <th>3</th>\n",
       "      <td>703080</td>\n",
       "      <td>0</td>\n",
       "      <td>0</td>\n",
       "      <td>2022-09-23</td>\n",
       "      <td>True</td>\n",
       "      <td>27.4</td>\n",
       "      <td>259432</td>\n",
       "      <td>3</td>\n",
       "    </tr>\n",
       "    <tr>\n",
       "      <th>4</th>\n",
       "      <td>526870</td>\n",
       "      <td>0</td>\n",
       "      <td>0</td>\n",
       "      <td>2021-01-10</td>\n",
       "      <td>True</td>\n",
       "      <td>7.9</td>\n",
       "      <td>23869</td>\n",
       "      <td>4</td>\n",
       "    </tr>\n",
       "  </tbody>\n",
       "</table>\n",
       "</div>"
      ],
      "text/plain": [
       "    app_id  helpful  funny        date  is_recommended  hours  user_id  \\\n",
       "0   975370        0      0  2022-12-12            True   36.3    51580   \n",
       "1   304390        4      0  2017-02-17           False   11.5     2586   \n",
       "2  1085660        2      0  2019-11-17            True  336.5   253880   \n",
       "3   703080        0      0  2022-09-23            True   27.4   259432   \n",
       "4   526870        0      0  2021-01-10            True    7.9    23869   \n",
       "\n",
       "   review_id  \n",
       "0          0  \n",
       "1          1  \n",
       "2          2  \n",
       "3          3  \n",
       "4          4  "
      ]
     },
     "execution_count": 5,
     "metadata": {},
     "output_type": "execute_result"
    }
   ],
   "source": [
    "recommendationsM.head()"
   ]
  },
  {
   "cell_type": "code",
   "execution_count": 6,
   "metadata": {},
   "outputs": [],
   "source": [
    "# gamesMetadataM.head()"
   ]
  },
  {
   "cell_type": "code",
   "execution_count": 7,
   "metadata": {},
   "outputs": [],
   "source": [
    "# -------------------=[ Mappers ]=-------------------\n",
    "\n",
    "usersV = usersM['user_id'].unique()\n",
    "gamesV = gamesM['app_id'].unique()\n",
    "\n",
    "uID_to_idx = {userId: idx for idx, userId in enumerate(usersV)}\n",
    "gID_to_idx = {gameId: idx for idx, gameId in enumerate(gamesV)}\n",
    "idx_to_uID = {idx: userId for idx, userId in enumerate(usersV)}\n",
    "idx_to_gID = {idx: gameId for idx, gameId in enumerate(gamesV)}"
   ]
  },
  {
   "cell_type": "code",
   "execution_count": 8,
   "metadata": {},
   "outputs": [],
   "source": [
    "# -------------=[ User x Game Matrix ]=---------------\n",
    "\n",
    "USERxGAME = load_npz('./data/rating_matrix_sparse.npz').tocsr()"
   ]
  },
  {
   "cell_type": "code",
   "execution_count": 9,
   "metadata": {},
   "outputs": [],
   "source": [
    "# -------------=[ Game feature Matrix ]=-------------\n",
    "# TODO"
   ]
  },
  {
   "cell_type": "code",
   "execution_count": 10,
   "metadata": {},
   "outputs": [],
   "source": [
    "def fit(model, userxgame, epochs=10):\n",
    "  for epoch in range(epochs):\n",
    "    model.fit_partial(userxgame, epochs=1, num_threads=4)\n",
    "    itemEmbeddings = model.item_embeddings\n",
    "    userEmbeddings = model.user_embeddings\n",
    "    itemBiases = model.item_biases\n",
    "    userBiases = model.user_biases\n",
    "\n",
    "    print(f'Epoch {epoch} completed!')\n",
    "    \n",
    "    np.save('./data/model/item_embeddings.npy', itemEmbeddings)\n",
    "    np.save('./data/model/user_embeddings.npy', userEmbeddings)\n",
    "    np.save('./data/model/item_biases.npy', itemBiases)\n",
    "    np.save('./data/model/user_biases.npy', userBiases)\n",
    "\n",
    "def loadModel():\n",
    "  itemEmbeddings = np.load('./data/model/item_embeddings.npy')\n",
    "  userEmbeddings = np.load('./data/model/user_embeddings.npy')\n",
    "  itemBiases = np.load('./data/model/item_biases.npy')\n",
    "  userBiases = np.load('./data/model/user_biases.npy')\n",
    "\n",
    "  model = LightFM(learning_schedule='adagrad', loss='warp')\n",
    "\n",
    "  model.item_embeddings = itemEmbeddings\n",
    "  model.user_embeddings = userEmbeddings\n",
    "  model.item_biases = itemBiases\n",
    "  model.user_biases = userBiases\n",
    "\n",
    "  return model"
   ]
  },
  {
   "cell_type": "code",
   "execution_count": 24,
   "metadata": {},
   "outputs": [],
   "source": [
    "# ----------------=[ Model training ]=---------------\n",
    "\n",
    "model = loadModel()\n",
    "model = LightFM(learning_schedule='adagrad', loss='warp')\n",
    "#fit(model, USERxGAME, epochs=10)"
   ]
  },
  {
   "cell_type": "code",
   "execution_count": 17,
   "metadata": {},
   "outputs": [],
   "source": [
    "# -----------------=[ Prediction ]=------------------\n",
    "\n",
    "def datasetPredict(userId, searcher, model):\n",
    "  userIndex = uID_to_idx[userId]\n",
    "  userVector = model.user_embeddings[userIndex]\n",
    "  indecies, scores = searcher.search(userVector)\n",
    "\n",
    "  return [idx_to_gID[idx] for idx in indecies]"
   ]
  },
  {
   "cell_type": "code",
   "execution_count": 18,
   "metadata": {},
   "outputs": [],
   "source": [
    "def listUserGames(userId):\n",
    "  userIndex = uID_to_idx[userId]\n",
    "  userVector = USERxGAME[userIndex].toarray()[0]\n",
    "  print(userVector.sum())\n",
    "  games = []\n",
    "\n",
    "  for idx, rating in enumerate(userVector):\n",
    "    if rating == 1:\n",
    "      games.append(idx_to_gID[idx])\n",
    "\n",
    "  return games"
   ]
  },
  {
   "cell_type": "code",
   "execution_count": 19,
   "metadata": {},
   "outputs": [],
   "source": [
    "def listUserRatings(userId):\n",
    "  userIndex = uID_to_idx[userId]\n",
    "  userVector = USERxGAME[userIndex].toarray()[0]\n",
    "  \n",
    "  return userVector"
   ]
  },
  {
   "cell_type": "code",
   "execution_count": 20,
   "metadata": {},
   "outputs": [
    {
     "name": "stderr",
     "output_type": "stream",
     "text": [
      "2025-01-11 13:18:26.420902: I scann/base/single_machine_factory_scann.cc:153] Single-machine AH training with dataset size = 50872, 20 thread(s).\n"
     ]
    }
   ],
   "source": [
    "# ----------------=[ ScaNN ]=---------------\n",
    "\n",
    "searcher = scann.scann_ops_pybind.builder(model.item_embeddings, 10, \"dot_product\").score_ah(2).build()"
   ]
  },
  {
   "cell_type": "code",
   "execution_count": 21,
   "metadata": {},
   "outputs": [],
   "source": [
    "def gID_to_name(gameId):\n",
    "  return gamesM[gamesM['app_id'] == gameId]['title'].values[0]"
   ]
  },
  {
   "cell_type": "code",
   "execution_count": 22,
   "metadata": {},
   "outputs": [],
   "source": [
    "# ------------------=[ Metrics ]=--------------------\n",
    "\n",
    "def confusionMatrix(searcher, model):\n",
    "  confusion = np.zeros((2,2))\n",
    "\n",
    "  for userId in usersV:\n",
    "    prediction = datasetPredict(userId, searcher, model)"
   ]
  },
  {
   "cell_type": "code",
   "execution_count": 26,
   "metadata": {},
   "outputs": [
    {
     "name": "stdout",
     "output_type": "stream",
     "text": [
      "4\n",
      "Predicted: ['Warframe', \"Tom Clancy's Rainbow Six® Siege\", 'Paladins®', 'Dota Underlords', 'Watch_Dogs® 2', 'Planet Zoo', 'Mirror 2: Project X', 'Scrap Mechanic', 'Cultivation Tales', 'Grand Theft Auto V']\n",
      "Real: ['Dota Underlords', 'Screeps: World', 'Slay the Spire', 'Papers Please']\n",
      "Intersection: 1\n",
      "Intersection2: 0\n"
     ]
    }
   ],
   "source": [
    "# ------------------=[ Testing ]=--------------------\n",
    "\n",
    "predicted = list(datasetPredict(4820647, searcher, model))\n",
    "real = list(listUserGames(4820647))\n",
    "\n",
    "fiveClosest = list(searcher.search(model.user_embeddings[uID_to_idx[4820647]])[0])\n",
    "\n",
    "print(f'Predicted: {list(map(gID_to_name, predicted))}')\n",
    "print(f'Real: {list(map(gID_to_name, real))}')\n",
    "print(f'Intersection: {len(set(predicted).intersection(set(real)))}')\n",
    "print(f'Intersection2: {len(set(fiveClosest).intersection(set(real)))}')"
   ]
  }
 ],
 "metadata": {
  "kernelspec": {
   "display_name": "env",
   "language": "python",
   "name": "python3"
  },
  "language_info": {
   "codemirror_mode": {
    "name": "ipython",
    "version": 3
   },
   "file_extension": ".py",
   "mimetype": "text/x-python",
   "name": "python",
   "nbconvert_exporter": "python",
   "pygments_lexer": "ipython3",
   "version": "3.8.16"
  }
 },
 "nbformat": 4,
 "nbformat_minor": 2
}
