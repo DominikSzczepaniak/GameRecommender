{
 "cells": [
  {
   "cell_type": "markdown",
   "metadata": {},
   "source": [
    "# LightFM & ScaNN Game Recommendation System Overview"
   ]
  },
  {
   "cell_type": "markdown",
   "metadata": {},
   "source": [
    "### 1. Load needed data"
   ]
  },
  {
   "cell_type": "code",
   "execution_count": 1,
   "metadata": {},
   "outputs": [
    {
     "name": "stderr",
     "output_type": "stream",
     "text": [
      "2025-01-11 15:28:08.899439: I tensorflow/core/util/port.cc:110] oneDNN custom operations are on. You may see slightly different numerical results due to floating-point round-off errors from different computation orders. To turn them off, set the environment variable `TF_ENABLE_ONEDNN_OPTS=0`.\n",
      "2025-01-11 15:28:08.900605: I tensorflow/tsl/cuda/cudart_stub.cc:28] Could not find cuda drivers on your machine, GPU will not be used.\n",
      "2025-01-11 15:28:08.925356: I tensorflow/tsl/cuda/cudart_stub.cc:28] Could not find cuda drivers on your machine, GPU will not be used.\n",
      "2025-01-11 15:28:08.925897: I tensorflow/core/platform/cpu_feature_guard.cc:182] This TensorFlow binary is optimized to use available CPU instructions in performance-critical operations.\n",
      "To enable the following instructions: AVX2 AVX_VNNI FMA, in other operations, rebuild TensorFlow with the appropriate compiler flags.\n",
      "2025-01-11 15:28:09.358352: W tensorflow/compiler/tf2tensorrt/utils/py_utils.cc:38] TF-TRT Warning: Could not find TensorRT\n"
     ]
    }
   ],
   "source": [
    "# --=[ Load dependencies ]=--\n",
    "\n",
    "import numpy as np\n",
    "import pandas as pd\n",
    "import scann\n",
    "from lightfm import LightFM\n",
    "from scipy.sparse import coo_matrix, save_npz, load_npz\n",
    "from sklearn.feature_extraction.text import CountVectorizer\n",
    "from scipy.sparse import hstack, identity"
   ]
  },
  {
   "cell_type": "code",
   "execution_count": 2,
   "metadata": {},
   "outputs": [],
   "source": [
    "# --=[ Load data ]=--\n",
    "\n",
    "# Base data\n",
    "users = pd.read_csv('./data/users.csv')\n",
    "games = pd.read_csv('./data/games.csv')\n",
    "recommendations = pd.read_csv('./data/recommendations.csv')\n",
    "games_metadata = pd.read_json('./data/games_metadata.json', lines=True)\n",
    "\n",
    "# User and Games interaction matrix\n",
    "USERSxGAMES = load_npz('./data/rating_matrix_sparse.npz')\n",
    "\n",
    "# Games features\n"
   ]
  },
  {
   "cell_type": "code",
   "execution_count": 3,
   "metadata": {},
   "outputs": [
    {
     "data": {
      "text/html": [
       "<div>\n",
       "<style scoped>\n",
       "    .dataframe tbody tr th:only-of-type {\n",
       "        vertical-align: middle;\n",
       "    }\n",
       "\n",
       "    .dataframe tbody tr th {\n",
       "        vertical-align: top;\n",
       "    }\n",
       "\n",
       "    .dataframe thead th {\n",
       "        text-align: right;\n",
       "    }\n",
       "</style>\n",
       "<table border=\"1\" class=\"dataframe\">\n",
       "  <thead>\n",
       "    <tr style=\"text-align: right;\">\n",
       "      <th></th>\n",
       "      <th>app_id</th>\n",
       "      <th>description</th>\n",
       "      <th>tags</th>\n",
       "    </tr>\n",
       "  </thead>\n",
       "  <tbody>\n",
       "    <tr>\n",
       "      <th>0</th>\n",
       "      <td>13500</td>\n",
       "      <td>Enter the dark underworld of Prince of Persia ...</td>\n",
       "      <td>[Action, Adventure, Parkour, Third Person, Gre...</td>\n",
       "    </tr>\n",
       "    <tr>\n",
       "      <th>1</th>\n",
       "      <td>22364</td>\n",
       "      <td></td>\n",
       "      <td>[Action]</td>\n",
       "    </tr>\n",
       "    <tr>\n",
       "      <th>2</th>\n",
       "      <td>113020</td>\n",
       "      <td>Monaco: What's Yours Is Mine is a single playe...</td>\n",
       "      <td>[Co-op, Stealth, Indie, Heist, Local Co-Op, St...</td>\n",
       "    </tr>\n",
       "    <tr>\n",
       "      <th>3</th>\n",
       "      <td>226560</td>\n",
       "      <td>Escape Dead Island is a Survival-Mystery adven...</td>\n",
       "      <td>[Zombies, Adventure, Survival, Action, Third P...</td>\n",
       "    </tr>\n",
       "    <tr>\n",
       "      <th>4</th>\n",
       "      <td>249050</td>\n",
       "      <td>Dungeon of the Endless is a Rogue-Like Dungeon...</td>\n",
       "      <td>[Roguelike, Strategy, Tower Defense, Pixel Gra...</td>\n",
       "    </tr>\n",
       "  </tbody>\n",
       "</table>\n",
       "</div>"
      ],
      "text/plain": [
       "   app_id                                        description  \\\n",
       "0   13500  Enter the dark underworld of Prince of Persia ...   \n",
       "1   22364                                                      \n",
       "2  113020  Monaco: What's Yours Is Mine is a single playe...   \n",
       "3  226560  Escape Dead Island is a Survival-Mystery adven...   \n",
       "4  249050  Dungeon of the Endless is a Rogue-Like Dungeon...   \n",
       "\n",
       "                                                tags  \n",
       "0  [Action, Adventure, Parkour, Third Person, Gre...  \n",
       "1                                           [Action]  \n",
       "2  [Co-op, Stealth, Indie, Heist, Local Co-Op, St...  \n",
       "3  [Zombies, Adventure, Survival, Action, Third P...  \n",
       "4  [Roguelike, Strategy, Tower Defense, Pixel Gra...  "
      ]
     },
     "execution_count": 3,
     "metadata": {},
     "output_type": "execute_result"
    }
   ],
   "source": [
    "# --=[ Data visualization ]=--\n",
    "games_metadata.head()"
   ]
  },
  {
   "cell_type": "code",
   "execution_count": 4,
   "metadata": {},
   "outputs": [],
   "source": [
    "# --=[ Mappers ]=--\n",
    "\n",
    "# Extract unique user and game IDs\n",
    "unique_user_ids = users['user_id'].unique()\n",
    "unique_game_ids = games['app_id'].unique()\n",
    "\n",
    "# Create mappers\n",
    "user_id_to_index = {user_id: idx for idx, user_id in enumerate(unique_user_ids)}\n",
    "game_id_to_index = {game_id: idx for idx, game_id in enumerate(unique_game_ids)}\n",
    "index_to_user_id = {idx: user_id for user_id, idx in user_id_to_index.items()}\n",
    "index_to_game_id = {idx: game_id for game_id, idx in game_id_to_index.items()}"
   ]
  },
  {
   "cell_type": "code",
   "execution_count": 5,
   "metadata": {},
   "outputs": [],
   "source": [
    "# --=[ Preprocess data ]=--\n",
    "\n",
    "games_metadata['tags'] = games_metadata['tags'].apply(lambda x: ','.join(x))\n",
    "\n",
    "features = games_metadata['tags']\n",
    "\n",
    "vectorizer = CountVectorizer(tokenizer=lambda x: x.split(','), token_pattern=None)\n",
    "\n",
    "game_features_sparse = vectorizer.fit_transform(features)\n",
    "game_identity_matrix = identity(len(games), format='csr')\n",
    "\n",
    "final_game_features = hstack([game_identity_matrix, game_features_sparse])"
   ]
  },
  {
   "cell_type": "code",
   "execution_count": null,
   "metadata": {},
   "outputs": [
    {
     "data": {
      "text/plain": [
       "<lightfm.lightfm.LightFM at 0x7fc9a13ebe20>"
      ]
     },
     "execution_count": 6,
     "metadata": {},
     "output_type": "execute_result"
    }
   ],
   "source": [
    "model = LightFM(loss='warp')\n",
    "model.fit(USERSxGAMES, epochs=5, item_features=final_game_features, num_threads=10)"
   ]
  },
  {
   "cell_type": "code",
   "execution_count": 7,
   "metadata": {},
   "outputs": [],
   "source": [
    "def game_id_to_name(game_id):\n",
    "  return games[games['app_id'] == game_id]['title'].values[0]"
   ]
  },
  {
   "cell_type": "markdown",
   "metadata": {},
   "source": [
    "### 2. Create Users and Games embeddings"
   ]
  },
  {
   "cell_type": "code",
   "execution_count": null,
   "metadata": {},
   "outputs": [],
   "source": []
  },
  {
   "cell_type": "markdown",
   "metadata": {},
   "source": [
    "### 3. Create Recommender"
   ]
  },
  {
   "cell_type": "code",
   "execution_count": null,
   "metadata": {},
   "outputs": [],
   "source": []
  },
  {
   "cell_type": "markdown",
   "metadata": {},
   "source": [
    "### 4. Evaluate the model"
   ]
  },
  {
   "cell_type": "code",
   "execution_count": null,
   "metadata": {},
   "outputs": [],
   "source": []
  }
 ],
 "metadata": {
  "kernelspec": {
   "display_name": "env",
   "language": "python",
   "name": "python3"
  },
  "language_info": {
   "codemirror_mode": {
    "name": "ipython",
    "version": 3
   },
   "file_extension": ".py",
   "mimetype": "text/x-python",
   "name": "python",
   "nbconvert_exporter": "python",
   "pygments_lexer": "ipython3",
   "version": "3.8.16"
  }
 },
 "nbformat": 4,
 "nbformat_minor": 2
}
