{
 "cells": [
  {
   "cell_type": "code",
   "execution_count": 11,
   "metadata": {},
   "outputs": [],
   "source": [
    "import numpy as np \n",
    "import torch\n",
    "import pandas as pd\n",
    "import pycleora\n",
    "from scipy.sparse import save_npz, load_npz"
   ]
  },
  {
   "cell_type": "code",
   "execution_count": 9,
   "metadata": {},
   "outputs": [],
   "source": [
    "users = pd.read_csv('users.csv')\n",
    "games = pd.read_csv('games.csv')\n",
    "recommendations = pd.read_csv('recommendations.csv')"
   ]
  },
  {
   "cell_type": "code",
   "execution_count": 17,
   "metadata": {},
   "outputs": [],
   "source": [
    "# Extract user IDs and game IDs\n",
    "users_id = users['user_id'].values\n",
    "games_id = games['app_id'].values\n",
    "\n",
    "# Get non-zero entries (user-game interactions) from the sparse matrix\n",
    "user_game_pairs = []\n",
    "rows, cols = rating_matrix_sparse.nonzero()  # Get indices of non-zero elements\n",
    "for user_idx, game_idx in zip(rows, cols):\n",
    "    user_id = users_id[user_idx]\n",
    "    game_id = games_id[game_idx]\n",
    "    user_game_pairs.append(f\"{user_id} {game_id}\")"
   ]
  },
  {
   "cell_type": "code",
   "execution_count": null,
   "metadata": {},
   "outputs": [],
   "source": [
    "cleora_input = map(lambda x: x, user_game_pairs)\n",
    "\n",
    "mat = pycleora.SparseMatrix.from_iterator(cleora_input, columns='complex::reflexive::game')\n",
    "\n",
    "print(mat.entity_ids)"
   ]
  },
  {
   "cell_type": "code",
   "execution_count": 18,
   "metadata": {},
   "outputs": [
    {
     "ename": "NameError",
     "evalue": "name 'mat' is not defined",
     "output_type": "error",
     "traceback": [
      "\u001b[0;31m---------------------------------------------------------------------------\u001b[0m",
      "\u001b[0;31mNameError\u001b[0m                                 Traceback (most recent call last)",
      "Cell \u001b[0;32mIn[18], line 2\u001b[0m\n\u001b[1;32m      1\u001b[0m embedding_dim \u001b[38;5;241m=\u001b[39m \u001b[38;5;241m1024\u001b[39m\n\u001b[0;32m----> 2\u001b[0m embeddings \u001b[38;5;241m=\u001b[39m \u001b[43mmat\u001b[49m\u001b[38;5;241m.\u001b[39minitialize_deterministically(embedding_dim)\n",
      "\u001b[0;31mNameError\u001b[0m: name 'mat' is not defined"
     ]
    }
   ],
   "source": [
    "embedding_dim = 1024\n",
    "embeddings = mat.initialize_deterministically(embedding_dim)"
   ]
  },
  {
   "cell_type": "code",
   "execution_count": null,
   "metadata": {},
   "outputs": [],
   "source": [
    "# Perform Markov random walks and normalize\n",
    "NUM_WALKS = 3\n",
    "for i in range(NUM_WALKS):\n",
    "    embeddings = mat.left_markov_propagate(embeddings)\n",
    "    embeddings /= np.linalg.norm(embeddings, ord=2, axis=-1, keepdims=True)"
   ]
  },
  {
   "cell_type": "code",
   "execution_count": null,
   "metadata": {},
   "outputs": [],
   "source": [
    "# Display the generated embeddings\n",
    "for entity, embedding in zip(mat.entity_ids, embeddings):\n",
    "    print(entity, embedding)\n",
    "\n",
    "# Example similarity check using dot product\n",
    "print(np.dot(embeddings[0], embeddings[1]))\n",
    "print(np.dot(embeddings[0], embeddings[2]))"
   ]
  }
 ],
 "metadata": {
  "kernelspec": {
   "display_name": ".env",
   "language": "python",
   "name": "python3"
  },
  "language_info": {
   "codemirror_mode": {
    "name": "ipython",
    "version": 3
   },
   "file_extension": ".py",
   "mimetype": "text/x-python",
   "name": "python",
   "nbconvert_exporter": "python",
   "pygments_lexer": "ipython3",
   "version": "3.12.8"
  }
 },
 "nbformat": 4,
 "nbformat_minor": 2
}
