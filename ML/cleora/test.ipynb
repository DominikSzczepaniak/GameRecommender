{
 "cells": [
  {
   "cell_type": "code",
   "execution_count": 1,
   "metadata": {},
   "outputs": [],
   "source": [
    "import pandas as pd \n",
    "\n",
    "recommendations = pd.read_csv('./data/recommendations.csv')\n",
    "users_game = recommendations.groupby('user_id')['app_id'].apply(list).values"
   ]
  },
  {
   "cell_type": "code",
   "execution_count": 2,
   "metadata": {},
   "outputs": [
    {
     "name": "stdout",
     "output_type": "stream",
     "text": [
      "[list([214490, 1454400, 49520, 221910, 357900, 526740, 602890, 267060, 202750, 260230, 235540, 591960, 8850, 222880, 402840, 269790, 627690, 487370, 317400, 423880, 539450, 339160, 286360, 451880, 226960, 365300, 418950, 63710])\n",
      " list([897450]) list([291550, 493520, 945360, 848450]) ... list([1407200])\n",
      " list([1987080]) list([895870])]\n",
      "13775532\n"
     ]
    }
   ],
   "source": [
    "print(users_game)\n",
    "print(len(users_game))"
   ]
  },
  {
   "cell_type": "code",
   "execution_count": 3,
   "metadata": {},
   "outputs": [],
   "source": [
    "from scipy.sparse import load_npz\n",
    "def convert_sparse_to_csv(path):\n",
    "    sparsed = load_npz(path)\n",
    "    rows = sparsed.row\n",
    "    columns = sparsed.col\n",
    "    data = sparsed.data\n",
    "    recommendations = pd.DataFrame({'user_id': rows, 'app_id': columns, 'rating': data})\n",
    "    return recommendations\n",
    "    \n",
    "users_game2 = convert_sparse_to_csv('./data/train_and_test.npz').groupby('user_id')['app_id'].apply(list).values"
   ]
  },
  {
   "cell_type": "code",
   "execution_count": 5,
   "metadata": {},
   "outputs": [
    {
     "name": "stdout",
     "output_type": "stream",
     "text": [
      "[list([14398]) list([15037, 12717, 15162, 13496])\n",
      " list([47561, 14432, 13896, 12528]) ... list([48619]) list([12717])\n",
      " list([12712])]\n"
     ]
    },
    {
     "data": {
      "text/plain": [
       "13775203"
      ]
     },
     "execution_count": 5,
     "metadata": {},
     "output_type": "execute_result"
    }
   ],
   "source": [
    "print(users_game2)\n",
    "len(users_game2)"
   ]
  }
 ],
 "metadata": {
  "kernelspec": {
   "display_name": ".env",
   "language": "python",
   "name": "python3"
  },
  "language_info": {
   "codemirror_mode": {
    "name": "ipython",
    "version": 3
   },
   "file_extension": ".py",
   "mimetype": "text/x-python",
   "name": "python",
   "nbconvert_exporter": "python",
   "pygments_lexer": "ipython3",
   "version": "3.12.4"
  }
 },
 "nbformat": 4,
 "nbformat_minor": 2
}
